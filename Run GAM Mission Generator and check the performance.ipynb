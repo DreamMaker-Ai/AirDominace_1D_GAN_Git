{
 "cells": [
  {
   "cell_type": "markdown",
   "metadata": {},
   "source": [
    "# Run GAM Mission Generator and check the performance"
   ]
  },
  {
   "cell_type": "code",
   "execution_count": 1,
   "metadata": {},
   "outputs": [],
   "source": [
    "import numpy as np\n",
    "import tensorflow as tf\n",
    "from tensorflow.keras.models import load_model\n",
    "import os\n",
    "import matplotlib.pyplot as plt\n",
    "import seaborn as sns\n",
    "import math\n",
    "from scipy import stats\n",
    "from PIL import Image, ImageDraw, ImageFont\n",
    "\n",
    "from simple_1D_simulator_for_gan import Fighter, Jammer, SAM"
   ]
  },
  {
   "cell_type": "code",
   "execution_count": 2,
   "metadata": {},
   "outputs": [],
   "source": [
    "np.random.seed(100)\n",
    "tf.random.set_seed(100)"
   ]
  },
  {
   "cell_type": "code",
   "execution_count": 3,
   "metadata": {},
   "outputs": [
    {
     "name": "stdout",
     "output_type": "stream",
     "text": [
      " Qiita\r\n",
      "'Run GAM Mission Generator and check the performance.ipynb'\r\n",
      "'Transform Tensorboard data to pandas DataFrame all at once.ipynb'\r\n",
      " __init__.py\r\n",
      " __pycache__\r\n",
      " architecture_plot\r\n",
      " dataset\r\n",
      "'dataset for 500000 training data'\r\n",
      " evaluation\r\n",
      " logs\r\n",
      " model-relu\r\n",
      " model-relu-selected-samples\r\n",
      " model-sigmoid\r\n",
      " model-sigmoid-selected-samples\r\n",
      " results\r\n",
      " results_csv\r\n",
      " simple_1D_simulator_for_gan.py\r\n",
      " test\r\n",
      " train_conditional_gan.py\r\n",
      " utils\r\n",
      " wandb\r\n"
     ]
    }
   ],
   "source": [
    "!ls"
   ]
  },
  {
   "cell_type": "markdown",
   "metadata": {},
   "source": [
    "# 概要\n",
    "\n",
    "1. import Fighter, Jammer, SAM\n",
    "1. load GAN\n",
    "1. Specify w in [w1, w2, w3]\n",
    "1. for _ in range(#):\n",
    "    1. Generate a 'w' mission conditions\n",
    "    1. Generate mission plans to the plan\n",
    "    1. Check success or not of the plan\n",
    "    1. Compute statistics & show the distribution\n",
    "    1. Draw some examples of 'success' plans\n",
    "    1. Draw some examples of 'not success' plans \n",
    "    "
   ]
  },
  {
   "cell_type": "code",
   "execution_count": 4,
   "metadata": {},
   "outputs": [],
   "source": [
    "CODING_SIZE = 20\n",
    "MODEL_TYPE = 'model-sigmoid-selected-samples'  # 'sigmoid' or 'relu'\n",
    "MODEL_NUMBER = 'my_generator_model_2000'"
   ]
  },
  {
   "cell_type": "markdown",
   "metadata": {},
   "source": [
    "# Instantiate fighter, jammer, sam"
   ]
  },
  {
   "cell_type": "code",
   "execution_count": 5,
   "metadata": {},
   "outputs": [
    {
     "name": "stdout",
     "output_type": "stream",
     "text": [
      "fighter={'speed': 740, 'ingress': 0, 'max_firing_range': 40, 'sskp': 1.0}\n",
      "jammer={'jam_range': 30, 'speed': 740, 'ingress': 0, 'lead_distance': 0, 'jam_effectiveness': 0.7}\n",
      "sam={'max_firing_range': 40, 'max_offset': 100, 'sskp': 1.0}\n"
     ]
    }
   ],
   "source": [
    "fighter = Fighter()\n",
    "jammer = Jammer()\n",
    "sam = SAM()\n",
    "\n",
    "print(f'fighter={fighter.__dict__}')\n",
    "print(f'jammer={jammer.__dict__}')\n",
    "print(f'sam={sam.__dict__}')"
   ]
  },
  {
   "cell_type": "markdown",
   "metadata": {},
   "source": [
    "# load GAN"
   ]
  },
  {
   "cell_type": "code",
   "execution_count": 6,
   "metadata": {},
   "outputs": [
    {
     "name": "stdout",
     "output_type": "stream",
     "text": [
      "WARNING:tensorflow:No training configuration found in save file, so the model was *not* compiled. Compile it manually.\n",
      "Model: \"generator\"\n",
      "__________________________________________________________________________________________________\n",
      "Layer (type)                    Output Shape         Param #     Connected to                     \n",
      "==================================================================================================\n",
      "input_1 (InputLayer)            [(None, 20)]         0                                            \n",
      "__________________________________________________________________________________________________\n",
      "input_2 (InputLayer)            [(None, 4)]          0                                            \n",
      "__________________________________________________________________________________________________\n",
      "concatenate (Concatenate)       (None, 24)           0           input_1[0][0]                    \n",
      "                                                                 input_2[0][0]                    \n",
      "__________________________________________________________________________________________________\n",
      "dense (Dense)                   (None, 32)           800         concatenate[0][0]                \n",
      "__________________________________________________________________________________________________\n",
      "batch_normalization (BatchNorma (None, 32)           128         dense[0][0]                      \n",
      "__________________________________________________________________________________________________\n",
      "dense_1 (Dense)                 (None, 32)           1056        batch_normalization[0][0]        \n",
      "__________________________________________________________________________________________________\n",
      "dense_2 (Dense)                 (None, 2)            66          dense_1[0][0]                    \n",
      "==================================================================================================\n",
      "Total params: 2,050\n",
      "Trainable params: 1,986\n",
      "Non-trainable params: 64\n",
      "__________________________________________________________________________________________________\n"
     ]
    }
   ],
   "source": [
    "file_name = os.path.join(MODEL_TYPE, MODEL_NUMBER)\n",
    "generator = load_model(file_name)\n",
    "generator.summary()"
   ]
  },
  {
   "cell_type": "markdown",
   "metadata": {},
   "source": [
    "# Generate a 'w' mission conditions"
   ]
  },
  {
   "cell_type": "markdown",
   "metadata": {},
   "source": [
    "## Define normalize function for net input"
   ]
  },
  {
   "cell_type": "code",
   "execution_count": 7,
   "metadata": {},
   "outputs": [],
   "source": [
    "def normalize_condition(fighter, jammer, sam):\n",
    "    cond1 = fighter.firing_range / fighter.max_firing_range\n",
    "    cond2 = sam.offset / sam.max_offset\n",
    "    cond3 = sam.firing_range / sam.max_firing_range\n",
    "    cond4 = sam.jammed_firing_range / (sam.max_firing_range * jammer.jam_effectiveness)\n",
    "    \n",
    "    return [cond1, cond2, cond3, cond4]"
   ]
  },
  {
   "cell_type": "markdown",
   "metadata": {},
   "source": [
    "## Define w1 Mission Generator"
   ]
  },
  {
   "cell_type": "code",
   "execution_count": 8,
   "metadata": {},
   "outputs": [],
   "source": [
    "def condition_w1_generator():\n",
    "    sam.firing_range = jammer.jam_range + (sam.max_firing_range - jammer.jam_range) * np.random.random()\n",
    "    sam.jammed_firing_range = sam.firing_range * jammer.jam_effectiveness\n",
    "    fighter.firing_range = sam.firing_range + (fighter.max_firing_range - sam.firing_range) * np.random.random()\n",
    "    sam_min_offset = max(sam.firing_range, fighter.firing_range, jammer.jam_range) + 1.0\n",
    "    sam.offset = sam_min_offset + np.random.random() * (sam.max_offset - sam_min_offset)\n",
    "    \n",
    "    if (sam.max_firing_range > sam.firing_range > jammer.jam_range) and \\\n",
    "    (fighter.max_firing_range > fighter.firing_range > sam.firing_range):\n",
    "        pass\n",
    "    else:\n",
    "        print('Error in condition_w1_generator')\n",
    "    \n",
    "    y = normalize_condition(fighter, jammer, sam)\n",
    "    return y"
   ]
  },
  {
   "cell_type": "code",
   "execution_count": 9,
   "metadata": {},
   "outputs": [
    {
     "name": "stdout",
     "output_type": "stream",
     "text": [
      "fighter={'speed': 740, 'ingress': 0, 'max_firing_range': 40, 'sskp': 1.0, 'firing_range': 39.11477673952519}\n",
      "jammer={'jam_range': 30, 'speed': 740, 'ingress': 0, 'lead_distance': 0, 'jam_effectiveness': 0.7}\n",
      "sam={'max_firing_range': 40, 'max_offset': 100, 'sskp': 1.0, 'firing_range': 36.78747403714799, 'jammed_firing_range': 25.75123182600359, 'offset': 68.01382888794083}\n",
      "normalized condition:[0.9778694184881298, 0.6801382888794083, 0.9196868509286997, 0.9196868509286996]\n"
     ]
    }
   ],
   "source": [
    "for _ in range(10000):\n",
    "    normalized_cond = condition_w1_generator()\n",
    "\n",
    "print(f'fighter={fighter.__dict__}')\n",
    "print(f'jammer={jammer.__dict__}')\n",
    "print(f'sam={sam.__dict__}')\n",
    "print(f'normalized condition:{normalized_cond}')"
   ]
  },
  {
   "cell_type": "markdown",
   "metadata": {},
   "source": [
    "## Define w2 Mission Generator"
   ]
  },
  {
   "cell_type": "code",
   "execution_count": 10,
   "metadata": {},
   "outputs": [],
   "source": [
    "def condition_w2_generator():\n",
    "    sam.firing_range = jammer.jam_range * np.random.random()\n",
    "    sam.jammed_firing_range = sam.firing_range * jammer.jam_effectiveness\n",
    "    fighter.firing_range = sam.jammed_firing_range + (sam.firing_range - sam.jammed_firing_range) * np.random.random()\n",
    "    sam_min_offset = max(sam.firing_range, fighter.firing_range, jammer.jam_range) + 1.0\n",
    "    sam.offset = sam_min_offset + np.random.random() * (sam.max_offset - sam_min_offset)\n",
    "    \n",
    "    if jammer.jam_range > sam.firing_range > fighter.firing_range > sam.jammed_firing_range:\n",
    "        pass\n",
    "    else:\n",
    "        print('Error in condition_w2_generator')\n",
    "        \n",
    "    y = normalize_condition(fighter, jammer, sam)\n",
    "    return y"
   ]
  },
  {
   "cell_type": "code",
   "execution_count": 11,
   "metadata": {},
   "outputs": [
    {
     "name": "stdout",
     "output_type": "stream",
     "text": [
      "fighter={'speed': 740, 'ingress': 0, 'max_firing_range': 40, 'sskp': 1.0, 'firing_range': 12.042316326931054}\n",
      "jammer={'jam_range': 30, 'speed': 740, 'ingress': 0, 'lead_distance': 0, 'jam_effectiveness': 0.7}\n",
      "sam={'max_firing_range': 40, 'max_offset': 100, 'sskp': 1.0, 'firing_range': 14.296011230928295, 'jammed_firing_range': 10.007207861649807, 'offset': 89.74610142001795}\n",
      "normalized condition:[0.3010579081732764, 0.8974610142001795, 0.3574002807732074, 0.3574002807732074]\n"
     ]
    }
   ],
   "source": [
    "for _ in range(10000):\n",
    "    normalized_cond = condition_w2_generator()\n",
    "    \n",
    "print(f'fighter={fighter.__dict__}')\n",
    "print(f'jammer={jammer.__dict__}')\n",
    "print(f'sam={sam.__dict__}')\n",
    "print(f'normalized condition:{normalized_cond}')"
   ]
  },
  {
   "cell_type": "markdown",
   "metadata": {},
   "source": [
    "## Define w3 Mission Generator"
   ]
  },
  {
   "cell_type": "code",
   "execution_count": 12,
   "metadata": {},
   "outputs": [],
   "source": [
    "def condition_w3_generator():\n",
    "    sam.firing_range = jammer.jam_range * np.random.random()\n",
    "    sam.jammed_firing_range = sam.firing_range * jammer.jam_effectiveness\n",
    "    fighter.firing_range = sam.firing_range + (sam.max_firing_range - sam.firing_range) * np.random.random()\n",
    "    sam_min_offset = max(sam.firing_range, fighter.firing_range, jammer.jam_range) + 1.0\n",
    "    sam.offset = sam_min_offset + np.random.random() * (sam.max_offset - sam_min_offset)\n",
    "    \n",
    "    if (jammer.jam_range > sam.firing_range) and (fighter.max_firing_range > fighter.firing_range > sam.firing_range):\n",
    "        pass\n",
    "    else:\n",
    "        print('Error in condition_w3_generator')\n",
    "        \n",
    "    y = normalize_condition(fighter, jammer, sam)\n",
    "    return y"
   ]
  },
  {
   "cell_type": "code",
   "execution_count": 13,
   "metadata": {},
   "outputs": [
    {
     "name": "stdout",
     "output_type": "stream",
     "text": [
      "fighter={'speed': 740, 'ingress': 0, 'max_firing_range': 40, 'sskp': 1.0, 'firing_range': 8.876290400794725}\n",
      "jammer={'jam_range': 30, 'speed': 740, 'ingress': 0, 'lead_distance': 0, 'jam_effectiveness': 0.7}\n",
      "sam={'max_firing_range': 40, 'max_offset': 100, 'sskp': 1.0, 'firing_range': 0.28397444847412356, 'jammed_firing_range': 0.1987821139318865, 'offset': 72.11455644712835}\n",
      "normalized condition:[0.2219072600198681, 0.7211455644712835, 0.007099361211853089, 0.007099361211853089]\n"
     ]
    }
   ],
   "source": [
    "for _ in range(10000):\n",
    "    normalized_cond = condition_w3_generator()\n",
    "    \n",
    "print(f'fighter={fighter.__dict__}')\n",
    "print(f'jammer={jammer.__dict__}')\n",
    "print(f'sam={sam.__dict__}')\n",
    "print(f'normalized condition:{normalized_cond}')"
   ]
  },
  {
   "cell_type": "markdown",
   "metadata": {},
   "source": [
    "## Perform simulations to a mission condition by changing z"
   ]
  },
  {
   "cell_type": "code",
   "execution_count": 14,
   "metadata": {},
   "outputs": [],
   "source": [
    "condition = 'w3'\n",
    "\n",
    "if condition == 'w1':\n",
    "    condition_generator = condition_w1_generator\n",
    "if condition == 'w2':\n",
    "    condition_generator = condition_w2_generator\n",
    "if condition == 'w3':\n",
    "    condition_generator = condition_w3_generator"
   ]
  },
  {
   "cell_type": "code",
   "execution_count": 15,
   "metadata": {},
   "outputs": [],
   "source": [
    "trial = 0"
   ]
  },
  {
   "cell_type": "markdown",
   "metadata": {},
   "source": [
    "### Repeat from here ------------------------------------------------------------------------------------------------------------"
   ]
  },
  {
   "cell_type": "code",
   "execution_count": 128,
   "metadata": {},
   "outputs": [
    {
     "name": "stdout",
     "output_type": "stream",
     "text": [
      "fighter={'speed': 740, 'ingress': 69.51050162315369, 'max_firing_range': 40, 'sskp': 1.0, 'firing_range': 34.0245821956282}\n",
      "jammer={'jam_range': 30, 'speed': 740, 'ingress': 67.70138740539551, 'lead_distance': 0, 'jam_effectiveness': 0.7}\n",
      "sam={'max_firing_range': 40, 'max_offset': 100, 'sskp': 1.0, 'firing_range': 10.52553478103383, 'jammed_firing_range': 7.3678743467236805, 'offset': 97.65027879306538}\n",
      "\n",
      " normalized condition:[0.2219072600198681, 0.7211455644712835, 0.007099361211853089, 0.007099361211853089]\n",
      "\n",
      " * Success count: 1000\n",
      " * Not success count (including draw): 0\n"
     ]
    }
   ],
   "source": [
    "normalized_y = condition_generator()\n",
    "\n",
    "print(f'fighter={fighter.__dict__}')\n",
    "print(f'jammer={jammer.__dict__}')\n",
    "print(f'sam={sam.__dict__}')\n",
    "print(f'\\n normalized condition:{normalized_cond}')\n",
    "\n",
    "\n",
    "success_count = 0\n",
    "not_success_count = 0\n",
    "fighter_ingress = []\n",
    "jammer_ingress = []\n",
    "results = []\n",
    "\n",
    "for _ in range(1000):\n",
    "    y_input = tf.expand_dims(tf.cast(normalized_y, tf.float32), axis=0)\n",
    "    z = np.random.randn(1, CODING_SIZE)\n",
    "    plan = generator([z, y_input])\n",
    "    \n",
    "    fighter.ingress = plan[0,0].numpy() * sam.max_offset\n",
    "    jammer.ingress = plan[0,1].numpy() * sam.max_offset\n",
    "    \n",
    "    \"\"\" Perform simulation \"\"\"\n",
    "    # Blue team win without using jammer\n",
    "    blue_win_condition_1 = (fighter.ingress < sam.offset - sam.firing_range) and \\\n",
    "                           (jammer.ingress < sam.offset - sam.firing_range) and \\\n",
    "                           (fighter.firing_range > sam.offset - fighter.ingress)\n",
    "\n",
    "    # Blue team wins with using jammer\n",
    "    blue_win_condition_2 = (jammer.jam_range > sam.firing_range) and \\\n",
    "                           (fighter.ingress < sam.offset - sam.jammed_firing_range) and \\\n",
    "                           (jammer.ingress + jammer.jam_range > sam.offset) and \\\n",
    "                           (jammer.ingress < sam.offset - sam.jammed_firing_range) and \\\n",
    "                           (fighter.firing_range > sam.offset - fighter.ingress)\n",
    "\n",
    "    \"\"\" Classify simulation results \"\"\"\n",
    "    if blue_win_condition_1 or blue_win_condition_2:\n",
    "        success_count += 1\n",
    "        fighter_ingress.append(fighter.ingress)\n",
    "        jammer_ingress.append(jammer.ingress)\n",
    "        results.append(1)\n",
    "    else:\n",
    "        not_success_count += 1\n",
    "        fighter_ingress.append(fighter.ingress)\n",
    "        jammer_ingress.append(jammer.ingress)\n",
    "        results.append(0)\n",
    "\n",
    "print(f'\\n * Success count: {success_count}')\n",
    "print(f' * Not success count (including draw): {not_success_count}')\n",
    "        "
   ]
  },
  {
   "cell_type": "markdown",
   "metadata": {},
   "source": [
    "## Make histogram of fighter.ingress & jammer.ingress"
   ]
  },
  {
   "cell_type": "markdown",
   "metadata": {},
   "source": [
    "### Calculate appropriate bins"
   ]
  },
  {
   "cell_type": "code",
   "execution_count": 129,
   "metadata": {},
   "outputs": [],
   "source": [
    "sturges = lambda n: math.ceil(math.log2(n*2))\n",
    "bins = sturges(len(fighter_ingress))"
   ]
  },
  {
   "cell_type": "markdown",
   "metadata": {},
   "source": [
    "### Draw graphs"
   ]
  },
  {
   "cell_type": "code",
   "execution_count": 130,
   "metadata": {},
   "outputs": [
    {
     "data": {
      "image/png": "[encoded data removed]",
      "text/plain": [
       "<Figure size 1200x800 with 1 Axes>"
      ]
     },
     "metadata": {
      "needs_background": "light"
     },
     "output_type": "display_data"
    },
    {
     "name": "stdout",
     "output_type": "stream",
     "text": [
      "mean:70.84 km, std:1.05 km, median: 71.07 km, mode:67.22 km\n"
     ]
    }
   ],
   "source": [
    "fig = plt.figure(dpi=200, figsize=(6,4))\n",
    "sns.distplot(fighter_ingress, bins=bins, label='fighter.ingress',)\n",
    "plt.legend()\n",
    "plt.xlabel('range [km]')\n",
    "plt.ylabel('pdf of fighter.ingress')\n",
    "plt.xlim(0,100)\n",
    "plt.title('Distribution of Fighter.ingress: trial - ' + str(trial))\n",
    "plt.grid()\n",
    "plt.show()\n",
    "\n",
    "print(f'mean:{np.mean(fighter_ingress):.2f} km, std:{np.std(fighter_ingress):.2f} km, \\\n",
    "median: {np.median(fighter_ingress):.2f} km, mode:{stats.mode(fighter_ingress)[0][0]:.2f} km')\n",
    "\n",
    "save_name =  \"results/\" + condition + '/' + MODEL_TYPE + '-' + MODEL_NUMBER + '-' + \\\n",
    "condition + '-trial-' + str(trial) + '-fighter_ingress' + '.png'\n",
    "fig.savefig(save_name)"
   ]
  },
  {
   "cell_type": "code",
   "execution_count": 131,
   "metadata": {},
   "outputs": [
    {
     "data": {
      "image/png": "[encoded data removed]",
      "text/plain": [
       "<Figure size 1200x800 with 1 Axes>"
      ]
     },
     "metadata": {
      "needs_background": "light"
     },
     "output_type": "display_data"
    },
    {
     "name": "stdout",
     "output_type": "stream",
     "text": [
      "mean:58.92 km, std:19.75 km, median: 67.89 km, mode:70.69 km\n"
     ]
    }
   ],
   "source": [
    "fig = plt.figure(dpi=200, figsize=(6,4))\n",
    "sns.distplot(jammer_ingress, bins=bins, label='jammer.ingress',)\n",
    "plt.legend()\n",
    "plt.xlabel('range [km]')\n",
    "plt.ylabel('pdf of jammer.ingress')\n",
    "plt.xlim(0,100)\n",
    "plt.title('Distribution of Jammer.ingress: trial - ' + str(trial))\n",
    "plt.grid()\n",
    "plt.show()\n",
    "\n",
    "print(f'mean:{np.mean(jammer_ingress):.2f} km, std:{np.std(jammer_ingress):.2f} km, \\\n",
    "median: {np.median(jammer_ingress):.2f} km, mode:{stats.mode(jammer_ingress)[0][0]:.2f} km')\n",
    "\n",
    "save_name =  \"results/\" + condition + '/' + MODEL_TYPE + '-' + MODEL_NUMBER + '-' + \\\n",
    "condition + '-trial-' + str(trial) + '-jammer_ingress' + '.png'\n",
    "fig.savefig(save_name)"
   ]
  },
  {
   "cell_type": "code",
   "execution_count": 132,
   "metadata": {},
   "outputs": [
    {
     "data": {
      "text/plain": [
       "ModeResult(mode=array([70.69000602]), count=array([2]))"
      ]
     },
     "execution_count": 132,
     "metadata": {},
     "output_type": "execute_result"
    }
   ],
   "source": [
    "stats.mode(jammer_ingress)"
   ]
  },
  {
   "cell_type": "markdown",
   "metadata": {},
   "source": [
    "## Draw engaging picture bu using mean of ingress"
   ]
  },
  {
   "cell_type": "code",
   "execution_count": 133,
   "metadata": {},
   "outputs": [],
   "source": [
    "img_size_x = 1200\n",
    "img_size_y = 800\n",
    "img = Image.new('RGBA', (img_size_x, img_size_y), (255, 255, 255, 255))\n",
    "draw = ImageDraw.Draw(img, 'RGBA')"
   ]
  },
  {
   "cell_type": "code",
   "execution_count": 134,
   "metadata": {},
   "outputs": [],
   "source": [
    "def draw_object(background_img, object_size, object_color):\n",
    "    object_img = Image.new('RGBA', background_img.size, (0,0,0,0))\n",
    "    draw = ImageDraw.Draw(object_img, 'RGBA')\n",
    "    draw.ellipse(object_size, object_color)\n",
    "    img.paste(Image.alpha_composite(background_img, object_img))"
   ]
  },
  {
   "cell_type": "code",
   "execution_count": 135,
   "metadata": {},
   "outputs": [],
   "source": [
    "def draw_text_proc(img, text, pos):\n",
    "    draw = ImageDraw.Draw(img)\n",
    "    font_ttf = \"/usr/share/fonts/OTF/TakaoPGothic.ttf\"\n",
    "    draw.font = ImageFont.truetype(font_ttf, 20)\n",
    "\n",
    "    img_size = np.array(img.size)\n",
    "    txt_size = np.array(draw.font.getsize(text))\n",
    "\n",
    "    color = (0, 0, 0)\n",
    "    draw.text(pos, text, color)"
   ]
  },
  {
   "cell_type": "code",
   "execution_count": 136,
   "metadata": {},
   "outputs": [
    {
     "name": "stdout",
     "output_type": "stream",
     "text": [
      "Fighter location: mean:70.84 km, std:1.05 km, median: 71.07 km, mode:67.22 km,   firing_range:34.02 km\n",
      "Jammer location: mean:58.92 km, std:19.75 km, median: 67.89 km, mode:70.69 km,   jam_range:30.00 km\n",
      "SAM location: 97.65 km,   firing_range:10.53 km, jammed_firing_range:7.3678743467236805\n"
     ]
    }
   ],
   "source": [
    "\"\"\" Print fighter, jammer, sam properties \"\"\"\n",
    "\n",
    "print(f'Fighter location: mean:{np.mean(fighter_ingress):.2f} km, std:{np.std(fighter_ingress):.2f} km, \\\n",
    "median: {np.median(fighter_ingress):.2f} km, mode:{stats.mode(fighter_ingress)[0][0]:.2f} km,   \\\n",
    "firing_range:{fighter.firing_range:.2f} km')\n",
    "\n",
    "print(f'Jammer location: mean:{np.mean(jammer_ingress):.2f} km, std:{np.std(jammer_ingress):.2f} km, \\\n",
    "median: {np.median(jammer_ingress):.2f} km, mode:{stats.mode(jammer_ingress)[0][0]:.2f} km,   \\\n",
    "jam_range:{jammer.jam_range:.2f} km')\n",
    "\n",
    "print(f'SAM location: {sam.offset:.2f} km,   firing_range:{sam.firing_range:.2f} km, \\\n",
    "jammed_firing_range:{sam.jammed_firing_range}')"
   ]
  },
  {
   "cell_type": "code",
   "execution_count": 137,
   "metadata": {},
   "outputs": [],
   "source": [
    "\"\"\" Perform simulation \"\"\"\n",
    "# Blue team win without using jammer\n",
    "blue_win_condition_1 = (np.mean(fighter_ingress) < sam.offset - sam.firing_range) and \\\n",
    "                       (np.mean(jammer_ingress) < sam.offset - sam.firing_range) and \\\n",
    "                       (fighter.firing_range > sam.offset - np.mean(fighter_ingress))\n",
    "\n",
    "# Blue team wins with using jammer\n",
    "blue_win_condition_2 = (jammer.jam_range > sam.firing_range) and \\\n",
    "                       (np.mean(fighter_ingress) < sam.offset - sam.jammed_firing_range) and \\\n",
    "                       (np.mean(jammer_ingress) + jammer.jam_range > sam.offset) and \\\n",
    "                       (np.mean(jammer_ingress) < sam.offset - sam.jammed_firing_range) and \\\n",
    "                       (fighter.firing_range > sam.offset - np.mean(fighter_ingress))\n",
    "\n",
    "if blue_win_condition_1 or blue_win_condition_2:\n",
    "    average = 'success'\n",
    "else:\n",
    "    average = 'not success'"
   ]
  },
  {
   "cell_type": "code",
   "execution_count": 138,
   "metadata": {},
   "outputs": [],
   "source": [
    "r = img_size_y / sam.max_offset\n",
    "obj_size = 2\n",
    "\n",
    "\n",
    "\"\"\" Draw SAM \"\"\"\n",
    "x = sam.offset\n",
    "\n",
    "# SAM location\n",
    "radius = obj_size\n",
    "up_left = ((x - radius) * r, (sam.max_offset / 2 - radius) * r)\n",
    "low_right = ((x + radius) * r, (sam.max_offset / 2 + radius) * r)\n",
    "draw_object(img, [up_left, low_right], (256, 0, 0, 256))\n",
    "\n",
    "# SAM Firing range\n",
    "radius = sam.firing_range\n",
    "up_left = ((x - radius) * r, (sam.max_offset / 2 - radius) * r)\n",
    "low_right = ((x + radius) * r, (sam.max_offset / 2 + radius) * r)\n",
    "draw_object(img, [up_left, low_right], (256, 0, 0, 32))\n",
    "\n",
    "# SAM Jammed firing range\n",
    "radius = sam.jammed_firing_range\n",
    "up_left = ((x - radius) * r, (sam.max_offset / 2 - radius) * r)\n",
    "low_right = ((x + radius) * r, (sam.max_offset / 2 + radius) * r)\n",
    "draw_object(img, [up_left, low_right], (256, 0, 0, 32))\n",
    "\n",
    "\"\"\" Draw Fighter \"\"\"\n",
    "x = np.mean(fighter_ingress)\n",
    "\n",
    "# Fighter location\n",
    "radius = obj_size\n",
    "up_left = ((x - radius) * r, (sam.max_offset / 2 - radius) * r)\n",
    "low_right = ((x + radius) * r, (sam.max_offset / 2 + radius) * r)\n",
    "draw_object(img, [up_left, low_right], (0, 0, 256, 256))\n",
    "\n",
    "# Fighter Firing range\n",
    "radius = fighter.firing_range\n",
    "up_left = ((x - radius) * r, (sam.max_offset / 2 - radius) * r)\n",
    "low_right = ((x + radius) * r, (sam.max_offset / 2 + radius) * r)\n",
    "draw_object(img, [up_left, low_right], (0, 0, 256, 32))\n",
    "\n",
    "\"\"\" Draw Jammer \"\"\"\n",
    "x = np.mean(jammer_ingress)\n",
    "\n",
    "# Jammer location\n",
    "radius = obj_size\n",
    "up_left = ((x - radius) * r, (sam.max_offset / 2 - radius) * r)\n",
    "low_right = ((x + radius) * r, (sam.max_offset / 2 + radius) * r)\n",
    "draw_object(img, [up_left, low_right], (0, 256, 256, 256))\n",
    "\n",
    "# Jammer Jam range\n",
    "radius = jammer.jam_range\n",
    "up_left = ((x - radius) * r, (sam.max_offset / 2 - radius) * r)\n",
    "low_right = ((x + radius) * r, (sam.max_offset / 2 + radius) * r)\n",
    "draw_object(img, [up_left, low_right], (0, 256, 256, 48))\n",
    "\n",
    "# Draw coodinate\n",
    "x_axes = np.arange(0,150,10)\n",
    "\n",
    "draw.line((0, img_size_y / 2, img_size_x, img_size_y /2 ), fill=(0, 0, 0), width=1)\n",
    "\n",
    "for x in x_axes:\n",
    "    pos = (np.mean(x) * r, sam.max_offset / 2 * r + 20)\n",
    "    draw_text_proc(img, str(x), pos)\n",
    "\n",
    "\n",
    "x_offset = 400\n",
    "pos = (img_size_x - x_offset - 50, 20)\n",
    "text = '-------------- Condition: '+ condition + ' - trial - ' + str(trial) + ' --------------'\n",
    "draw_text_proc(img, text, pos)\n",
    "\n",
    "# Draw Fighter properties\n",
    "x_offset = 400\n",
    "pos = (img_size_x - x_offset, 60)\n",
    "text = 'Fighter:'\n",
    "draw_text_proc(img, text, pos)\n",
    "\n",
    "pos = (img_size_x - x_offset, 80)\n",
    "text = '     mean(ingress): ' + str(round(np.mean(fighter_ingress),2)) + 'km'\n",
    "draw_text_proc(img, text, pos)\n",
    "\n",
    "pos = (img_size_x - x_offset, 100)\n",
    "text = '     firing_range: ' + str(round(fighter.firing_range,2)) + 'km'\n",
    "draw_text_proc(img, text, pos)\n",
    "\n",
    "# Draw Jammer properties\n",
    "pos = (img_size_x - x_offset, 140)\n",
    "text = 'Jammer:'\n",
    "draw_text_proc(img, text, pos)\n",
    "\n",
    "pos = (img_size_x - x_offset, 160)\n",
    "text = '     mean(ingress): ' + str(round(np.mean(jammer_ingress),2)) + 'km'\n",
    "draw_text_proc(img, text, pos)\n",
    "\n",
    "pos = (img_size_x - x_offset, 180)\n",
    "text = '     jam_range: ' + str(round(jammer.jam_range,2)) + 'km'\n",
    "draw_text_proc(img, text, pos)\n",
    "\n",
    "# Draw SAM properties\n",
    "pos = (img_size_x - x_offset, 220)\n",
    "text = 'SAM:'\n",
    "draw_text_proc(img, text, pos)\n",
    "\n",
    "pos = (img_size_x - x_offset, 240)\n",
    "text = '     offset: ' + str(round(sam.offset,2)) + 'km'\n",
    "draw_text_proc(img, text, pos)\n",
    "\n",
    "pos = (img_size_x - x_offset, 260)\n",
    "text = '     firing_range: ' + str(round(sam.firing_range,2)) + 'km'\n",
    "draw_text_proc(img, text, pos)\n",
    "\n",
    "pos = (img_size_x - x_offset, 280)\n",
    "text = '     jammed_firing_range: ' + str(round(sam.jammed_firing_range,2)) + 'km'\n",
    "draw_text_proc(img, text, pos)\n",
    "\n",
    "# Drwa mission results\n",
    "pos = (img_size_x - x_offset, img_size_y / 2 + 220)\n",
    "text = 'Mission ' + str(average) + ', when average'\n",
    "draw_text_proc(img, text, pos)\n",
    "\n",
    "total = success_count + not_success_count\n",
    "pos = (img_size_x - x_offset, img_size_y / 2 + 250)\n",
    "text = '   Success count: ' + str(success_count) + '/ ' + str(total)\n",
    "draw_text_proc(img, text, pos)\n",
    "\n",
    "pos = (img_size_x - x_offset, img_size_y / 2 + 280)\n",
    "text = '   Not success count: ' + str(not_success_count) + '/ ' + str(total)\n",
    "draw_text_proc(img, text, pos)\n",
    "\n",
    "\n",
    "save_name =  \"results/\" + condition + '/' + MODEL_TYPE + '-' + MODEL_NUMBER + '-' + condition + '-trial-' + \\\n",
    "str(trial) + '-engage' + '.png'\n",
    "img.save(save_name)\n",
    "\n",
    "img.show()"
   ]
  },
  {
   "cell_type": "markdown",
   "metadata": {},
   "source": [
    "## Draw success mission"
   ]
  },
  {
   "cell_type": "code",
   "execution_count": 139,
   "metadata": {},
   "outputs": [
    {
     "name": "stdout",
     "output_type": "stream",
     "text": [
      "Index of success = 228\n"
     ]
    }
   ],
   "source": [
    "if np.sum(results) > 0:\n",
    "    idxes = np.where(np.array(results) > 0.5)\n",
    "    idx = np.random.choice(idxes[0], 1)[0]\n",
    "    print(f'Index of success = {idx}')\n",
    "else:\n",
    "    idxes = None"
   ]
  },
  {
   "cell_type": "code",
   "execution_count": 140,
   "metadata": {},
   "outputs": [],
   "source": [
    "img_size_x = 1200\n",
    "img_size_y = 800\n",
    "img = Image.new('RGBA', (img_size_x, img_size_y), (255, 255, 255, 255))\n",
    "draw = ImageDraw.Draw(img, 'RGBA')"
   ]
  },
  {
   "cell_type": "code",
   "execution_count": 141,
   "metadata": {},
   "outputs": [],
   "source": [
    "if np.sum(results) > 0:\n",
    "    r = img_size_y / sam.max_offset\n",
    "    obj_size = 2\n",
    "\n",
    "\n",
    "    \"\"\" Draw SAM \"\"\"\n",
    "    x = sam.offset\n",
    "\n",
    "    # SAM location\n",
    "    radius = obj_size\n",
    "    up_left = ((x - radius) * r, (sam.max_offset / 2 - radius) * r)\n",
    "    low_right = ((x + radius) * r, (sam.max_offset / 2 + radius) * r)\n",
    "    draw_object(img, [up_left, low_right], (256, 0, 0, 256))\n",
    "\n",
    "    # SAM Firing range\n",
    "    radius = sam.firing_range\n",
    "    up_left = ((x - radius) * r, (sam.max_offset / 2 - radius) * r)\n",
    "    low_right = ((x + radius) * r, (sam.max_offset / 2 + radius) * r)\n",
    "    draw_object(img, [up_left, low_right], (256, 0, 0, 32))\n",
    "\n",
    "    # SAM Jammed firing range\n",
    "    radius = sam.jammed_firing_range\n",
    "    up_left = ((x - radius) * r, (sam.max_offset / 2 - radius) * r)\n",
    "    low_right = ((x + radius) * r, (sam.max_offset / 2 + radius) * r)\n",
    "    draw_object(img, [up_left, low_right], (256, 0, 0, 32))\n",
    "\n",
    "    \"\"\" Draw Fighter \"\"\"\n",
    "    x = fighter_ingress[idx]\n",
    "\n",
    "    # Fighter location\n",
    "    radius = obj_size\n",
    "    up_left = ((x - radius) * r, (sam.max_offset / 2 - radius) * r)\n",
    "    low_right = ((x + radius) * r, (sam.max_offset / 2 + radius) * r)\n",
    "    draw_object(img, [up_left, low_right], (0, 0, 256, 256))\n",
    "\n",
    "    # Fighter Firing range\n",
    "    radius = fighter.firing_range\n",
    "    up_left = ((x - radius) * r, (sam.max_offset / 2 - radius) * r)\n",
    "    low_right = ((x + radius) * r, (sam.max_offset / 2 + radius) * r)\n",
    "    draw_object(img, [up_left, low_right], (0, 0, 256, 32))\n",
    "\n",
    "    \"\"\" Draw Jammer \"\"\"\n",
    "    x = jammer_ingress[idx]\n",
    "\n",
    "    # Jammer location\n",
    "    radius = obj_size\n",
    "    up_left = ((x - radius) * r, (sam.max_offset / 2 - radius) * r)\n",
    "    low_right = ((x + radius) * r, (sam.max_offset / 2 + radius) * r)\n",
    "    draw_object(img, [up_left, low_right], (0, 256, 256, 256))\n",
    "\n",
    "    # Jammer Jam range\n",
    "    radius = jammer.jam_range\n",
    "    up_left = ((x - radius) * r, (sam.max_offset / 2 - radius) * r)\n",
    "    low_right = ((x + radius) * r, (sam.max_offset / 2 + radius) * r)\n",
    "    draw_object(img, [up_left, low_right], (0, 256, 256, 48))\n",
    "\n",
    "    # Draw coodinate\n",
    "    x_axes = np.arange(0,150,10)\n",
    "\n",
    "    draw.line((0, img_size_y / 2, img_size_x, img_size_y /2 ), fill=(0, 0, 0), width=1)\n",
    "\n",
    "    for x in x_axes:\n",
    "        pos = (np.mean(x) * r, sam.max_offset / 2 * r + 20)\n",
    "        draw_text_proc(img, str(x), pos)\n",
    "\n",
    "\n",
    "    x_offset = 400\n",
    "    pos = (img_size_x - x_offset - 50, 20)\n",
    "    text = '------- Condition: '+ condition + ' - succeed trial - ' + str(trial) + ' -------'\n",
    "    draw_text_proc(img, text, pos)\n",
    "\n",
    "    # Draw Fighter properties\n",
    "    x_offset = 400\n",
    "    pos = (img_size_x - x_offset, 60)\n",
    "    text = 'Fighter:'\n",
    "    draw_text_proc(img, text, pos)\n",
    "\n",
    "    pos = (img_size_x - x_offset, 80)\n",
    "    text = '     mean(ingress): ' + str(round(np.mean(fighter_ingress),2)) + 'km'\n",
    "    draw_text_proc(img, text, pos)\n",
    "\n",
    "    pos = (img_size_x - x_offset, 100)\n",
    "    text = '     firing_range: ' + str(round(fighter.firing_range,2)) + 'km'\n",
    "    draw_text_proc(img, text, pos)\n",
    "\n",
    "    # Draw Jammer properties\n",
    "    pos = (img_size_x - x_offset, 140)\n",
    "    text = 'Jammer:'\n",
    "    draw_text_proc(img, text, pos)\n",
    "\n",
    "    pos = (img_size_x - x_offset, 160)\n",
    "    text = '     mean(ingress): ' + str(round(np.mean(jammer_ingress),2)) + 'km'\n",
    "    draw_text_proc(img, text, pos)\n",
    "\n",
    "    pos = (img_size_x - x_offset, 180)\n",
    "    text = '     jam_range: ' + str(round(jammer.jam_range,2)) + 'km'\n",
    "    draw_text_proc(img, text, pos)\n",
    "\n",
    "    # Draw SAM properties\n",
    "    pos = (img_size_x - x_offset, 220)\n",
    "    text = 'SAM:'\n",
    "    draw_text_proc(img, text, pos)\n",
    "\n",
    "    pos = (img_size_x - x_offset, 240)\n",
    "    text = '     offset: ' + str(round(sam.offset,2)) + 'km'\n",
    "    draw_text_proc(img, text, pos)\n",
    "\n",
    "    pos = (img_size_x - x_offset, 260)\n",
    "    text = '     firing_range: ' + str(round(sam.firing_range,2)) + 'km'\n",
    "    draw_text_proc(img, text, pos)\n",
    "\n",
    "    pos = (img_size_x - x_offset, 280)\n",
    "    text = '     jammed_firing_range: ' + str(round(sam.jammed_firing_range,2)) + 'km'\n",
    "    draw_text_proc(img, text, pos)\n",
    "\n",
    "    # Drwa mission results\n",
    "    pos = (img_size_x - x_offset, img_size_y / 2 + 220)\n",
    "    text = 'Mission success by Index: ' + str(idx)\n",
    "    draw_text_proc(img, text, pos)\n",
    "\n",
    "\n",
    "    save_name =  \"results/\" + condition + '/' + MODEL_TYPE + '-' + MODEL_NUMBER + '-' + condition + '-trial-' + \\\n",
    "    str(trial) + '-engage-success' + '.png'\n",
    "    img.save(save_name)\n",
    "\n",
    "    img.show()\n",
    "else:\n",
    "    print('There are no success examples.')"
   ]
  },
  {
   "cell_type": "code",
   "execution_count": 142,
   "metadata": {},
   "outputs": [],
   "source": [
    "trial += 1"
   ]
  },
  {
   "cell_type": "code",
   "execution_count": 143,
   "metadata": {},
   "outputs": [
    {
     "data": {
      "text/plain": [
       "0.680494571470885"
      ]
     },
     "execution_count": 143,
     "metadata": {},
     "output_type": "execute_result"
    }
   ],
   "source": [
    "np.random.random()  # 0.7183 for try-0"
   ]
  },
  {
   "cell_type": "code",
   "execution_count": null,
   "metadata": {},
   "outputs": [],
   "source": []
  }
 ],
 "metadata": {
  "kernelspec": {
   "display_name": "Python 3",
   "language": "python",
   "name": "python3"
  },
  "language_info": {
   "codemirror_mode": {
    "name": "ipython",
    "version": 3
   },
   "file_extension": ".py",
   "mimetype": "text/x-python",
   "name": "python",
   "nbconvert_exporter": "python",
   "pygments_lexer": "ipython3",
   "version": "3.7.3"
  }
 },
 "nbformat": 4,
 "nbformat_minor": 2
}
